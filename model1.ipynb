{
 "cells": [
  {
   "cell_type": "markdown",
   "id": "70d3e373",
   "metadata": {},
   "source": []
  },
  {
   "cell_type": "code",
   "execution_count": 143,
   "id": "67da6ab7",
   "metadata": {},
   "outputs": [],
   "source": [
    "import pandas as pd\n",
    "import numpy as np\n",
    "from matplotlib import pyplot as plt\n",
    "import seaborn as sns\n",
    "%matplotlib inline  "
   ]
  },
  {
   "cell_type": "code",
   "execution_count": 144,
   "id": "301fe1f5",
   "metadata": {},
   "outputs": [],
   "source": [
    "df=pd.read_csv('Algerian_forest_fires_dataset_UPDATE.csv',header=1)"
   ]
  },
  {
   "cell_type": "code",
   "execution_count": 145,
   "id": "51301339",
   "metadata": {},
   "outputs": [
    {
     "data": {
      "text/html": [
       "<div>\n",
       "<style scoped>\n",
       "    .dataframe tbody tr th:only-of-type {\n",
       "        vertical-align: middle;\n",
       "    }\n",
       "\n",
       "    .dataframe tbody tr th {\n",
       "        vertical-align: top;\n",
       "    }\n",
       "\n",
       "    .dataframe thead th {\n",
       "        text-align: right;\n",
       "    }\n",
       "</style>\n",
       "<table border=\"1\" class=\"dataframe\">\n",
       "  <thead>\n",
       "    <tr style=\"text-align: right;\">\n",
       "      <th></th>\n",
       "      <th>day</th>\n",
       "      <th>month</th>\n",
       "      <th>year</th>\n",
       "      <th>Temperature</th>\n",
       "      <th>RH</th>\n",
       "      <th>Ws</th>\n",
       "      <th>Rain</th>\n",
       "      <th>FFMC</th>\n",
       "      <th>DMC</th>\n",
       "      <th>DC</th>\n",
       "      <th>ISI</th>\n",
       "      <th>BUI</th>\n",
       "      <th>FWI</th>\n",
       "      <th>Classes</th>\n",
       "    </tr>\n",
       "  </thead>\n",
       "  <tbody>\n",
       "    <tr>\n",
       "      <th>0</th>\n",
       "      <td>01</td>\n",
       "      <td>06</td>\n",
       "      <td>2012</td>\n",
       "      <td>29</td>\n",
       "      <td>57</td>\n",
       "      <td>18</td>\n",
       "      <td>0</td>\n",
       "      <td>65.7</td>\n",
       "      <td>3.4</td>\n",
       "      <td>7.6</td>\n",
       "      <td>1.3</td>\n",
       "      <td>3.4</td>\n",
       "      <td>0.5</td>\n",
       "      <td>not fire</td>\n",
       "    </tr>\n",
       "    <tr>\n",
       "      <th>1</th>\n",
       "      <td>02</td>\n",
       "      <td>06</td>\n",
       "      <td>2012</td>\n",
       "      <td>29</td>\n",
       "      <td>61</td>\n",
       "      <td>13</td>\n",
       "      <td>1.3</td>\n",
       "      <td>64.4</td>\n",
       "      <td>4.1</td>\n",
       "      <td>7.6</td>\n",
       "      <td>1</td>\n",
       "      <td>3.9</td>\n",
       "      <td>0.4</td>\n",
       "      <td>not fire</td>\n",
       "    </tr>\n",
       "    <tr>\n",
       "      <th>2</th>\n",
       "      <td>03</td>\n",
       "      <td>06</td>\n",
       "      <td>2012</td>\n",
       "      <td>26</td>\n",
       "      <td>82</td>\n",
       "      <td>22</td>\n",
       "      <td>13.1</td>\n",
       "      <td>47.1</td>\n",
       "      <td>2.5</td>\n",
       "      <td>7.1</td>\n",
       "      <td>0.3</td>\n",
       "      <td>2.7</td>\n",
       "      <td>0.1</td>\n",
       "      <td>not fire</td>\n",
       "    </tr>\n",
       "    <tr>\n",
       "      <th>3</th>\n",
       "      <td>04</td>\n",
       "      <td>06</td>\n",
       "      <td>2012</td>\n",
       "      <td>25</td>\n",
       "      <td>89</td>\n",
       "      <td>13</td>\n",
       "      <td>2.5</td>\n",
       "      <td>28.6</td>\n",
       "      <td>1.3</td>\n",
       "      <td>6.9</td>\n",
       "      <td>0</td>\n",
       "      <td>1.7</td>\n",
       "      <td>0</td>\n",
       "      <td>not fire</td>\n",
       "    </tr>\n",
       "    <tr>\n",
       "      <th>4</th>\n",
       "      <td>05</td>\n",
       "      <td>06</td>\n",
       "      <td>2012</td>\n",
       "      <td>27</td>\n",
       "      <td>77</td>\n",
       "      <td>16</td>\n",
       "      <td>0</td>\n",
       "      <td>64.8</td>\n",
       "      <td>3</td>\n",
       "      <td>14.2</td>\n",
       "      <td>1.2</td>\n",
       "      <td>3.9</td>\n",
       "      <td>0.5</td>\n",
       "      <td>not fire</td>\n",
       "    </tr>\n",
       "  </tbody>\n",
       "</table>\n",
       "</div>"
      ],
      "text/plain": [
       "  day month  year Temperature  RH  Ws Rain   FFMC  DMC    DC  ISI  BUI  FWI  \\\n",
       "0  01    06  2012          29  57  18     0  65.7  3.4   7.6  1.3  3.4  0.5   \n",
       "1  02    06  2012          29  61  13   1.3  64.4  4.1   7.6    1  3.9  0.4   \n",
       "2  03    06  2012          26  82  22  13.1  47.1  2.5   7.1  0.3  2.7  0.1   \n",
       "3  04    06  2012          25  89  13   2.5  28.6  1.3   6.9    0  1.7    0   \n",
       "4  05    06  2012          27  77  16     0  64.8    3  14.2  1.2  3.9  0.5   \n",
       "\n",
       "     Classes    \n",
       "0  not fire     \n",
       "1  not fire     \n",
       "2  not fire     \n",
       "3  not fire     \n",
       "4  not fire     "
      ]
     },
     "execution_count": 145,
     "metadata": {},
     "output_type": "execute_result"
    }
   ],
   "source": [
    "df.head()"
   ]
  },
  {
   "cell_type": "code",
   "execution_count": 146,
   "id": "37639798",
   "metadata": {},
   "outputs": [
    {
     "data": {
      "text/html": [
       "<div>\n",
       "<style scoped>\n",
       "    .dataframe tbody tr th:only-of-type {\n",
       "        vertical-align: middle;\n",
       "    }\n",
       "\n",
       "    .dataframe tbody tr th {\n",
       "        vertical-align: top;\n",
       "    }\n",
       "\n",
       "    .dataframe thead th {\n",
       "        text-align: right;\n",
       "    }\n",
       "</style>\n",
       "<table border=\"1\" class=\"dataframe\">\n",
       "  <thead>\n",
       "    <tr style=\"text-align: right;\">\n",
       "      <th></th>\n",
       "      <th>day</th>\n",
       "      <th>month</th>\n",
       "      <th>year</th>\n",
       "      <th>Temperature</th>\n",
       "      <th>RH</th>\n",
       "      <th>Ws</th>\n",
       "      <th>Rain</th>\n",
       "      <th>FFMC</th>\n",
       "      <th>DMC</th>\n",
       "      <th>DC</th>\n",
       "      <th>ISI</th>\n",
       "      <th>BUI</th>\n",
       "      <th>FWI</th>\n",
       "      <th>Classes</th>\n",
       "    </tr>\n",
       "  </thead>\n",
       "  <tbody>\n",
       "    <tr>\n",
       "      <th>122</th>\n",
       "      <td>Sidi-Bel Abbes Region Dataset</td>\n",
       "      <td>NaN</td>\n",
       "      <td>NaN</td>\n",
       "      <td>NaN</td>\n",
       "      <td>NaN</td>\n",
       "      <td>NaN</td>\n",
       "      <td>NaN</td>\n",
       "      <td>NaN</td>\n",
       "      <td>NaN</td>\n",
       "      <td>NaN</td>\n",
       "      <td>NaN</td>\n",
       "      <td>NaN</td>\n",
       "      <td>NaN</td>\n",
       "      <td>NaN</td>\n",
       "    </tr>\n",
       "    <tr>\n",
       "      <th>167</th>\n",
       "      <td>14</td>\n",
       "      <td>07</td>\n",
       "      <td>2012</td>\n",
       "      <td>37</td>\n",
       "      <td>37</td>\n",
       "      <td>18</td>\n",
       "      <td>0.2</td>\n",
       "      <td>88.9</td>\n",
       "      <td>12.9</td>\n",
       "      <td>14.6 9</td>\n",
       "      <td>12.5</td>\n",
       "      <td>10.4</td>\n",
       "      <td>fire</td>\n",
       "      <td>NaN</td>\n",
       "    </tr>\n",
       "  </tbody>\n",
       "</table>\n",
       "</div>"
      ],
      "text/plain": [
       "                               day month  year Temperature   RH   Ws Rain   \\\n",
       "122  Sidi-Bel Abbes Region Dataset   NaN   NaN         NaN  NaN  NaN   NaN   \n",
       "167                             14    07  2012          37   37   18   0.2   \n",
       "\n",
       "     FFMC   DMC      DC   ISI   BUI      FWI Classes    \n",
       "122   NaN   NaN     NaN   NaN   NaN      NaN       NaN  \n",
       "167  88.9  12.9  14.6 9  12.5  10.4  fire          NaN  "
      ]
     },
     "execution_count": 146,
     "metadata": {},
     "output_type": "execute_result"
    }
   ],
   "source": [
    "df[df.isnull().any(axis=1)]"
   ]
  },
  {
   "cell_type": "code",
   "execution_count": 147,
   "id": "0800572b",
   "metadata": {},
   "outputs": [],
   "source": [
    "df.loc[:122,\"region\"]=int(0)\n",
    "df.loc[123:,\"region\"]=int(1)"
   ]
  },
  {
   "cell_type": "code",
   "execution_count": 148,
   "id": "196db60c",
   "metadata": {},
   "outputs": [],
   "source": [
    "df[\"region\"]=df[\"region\"].astype(int)"
   ]
  },
  {
   "cell_type": "code",
   "execution_count": 149,
   "id": "e3b25ccd",
   "metadata": {},
   "outputs": [
    {
     "name": "stdout",
     "output_type": "stream",
     "text": [
      "<class 'pandas.core.frame.DataFrame'>\n",
      "RangeIndex: 246 entries, 0 to 245\n",
      "Data columns (total 15 columns):\n",
      " #   Column       Non-Null Count  Dtype \n",
      "---  ------       --------------  ----- \n",
      " 0   day          246 non-null    object\n",
      " 1   month        245 non-null    object\n",
      " 2   year         245 non-null    object\n",
      " 3   Temperature  245 non-null    object\n",
      " 4    RH          245 non-null    object\n",
      " 5    Ws          245 non-null    object\n",
      " 6   Rain         245 non-null    object\n",
      " 7   FFMC         245 non-null    object\n",
      " 8   DMC          245 non-null    object\n",
      " 9   DC           245 non-null    object\n",
      " 10  ISI          245 non-null    object\n",
      " 11  BUI          245 non-null    object\n",
      " 12  FWI          245 non-null    object\n",
      " 13  Classes      244 non-null    object\n",
      " 14  region       246 non-null    int32 \n",
      "dtypes: int32(1), object(14)\n",
      "memory usage: 28.0+ KB\n"
     ]
    }
   ],
   "source": [
    "df.info()"
   ]
  },
  {
   "cell_type": "code",
   "execution_count": 150,
   "id": "9de996bd",
   "metadata": {},
   "outputs": [
    {
     "data": {
      "text/html": [
       "<div>\n",
       "<style scoped>\n",
       "    .dataframe tbody tr th:only-of-type {\n",
       "        vertical-align: middle;\n",
       "    }\n",
       "\n",
       "    .dataframe tbody tr th {\n",
       "        vertical-align: top;\n",
       "    }\n",
       "\n",
       "    .dataframe thead th {\n",
       "        text-align: right;\n",
       "    }\n",
       "</style>\n",
       "<table border=\"1\" class=\"dataframe\">\n",
       "  <thead>\n",
       "    <tr style=\"text-align: right;\">\n",
       "      <th></th>\n",
       "      <th>day</th>\n",
       "      <th>month</th>\n",
       "      <th>year</th>\n",
       "      <th>Temperature</th>\n",
       "      <th>RH</th>\n",
       "      <th>Ws</th>\n",
       "      <th>Rain</th>\n",
       "      <th>FFMC</th>\n",
       "      <th>DMC</th>\n",
       "      <th>DC</th>\n",
       "      <th>ISI</th>\n",
       "      <th>BUI</th>\n",
       "      <th>FWI</th>\n",
       "      <th>Classes</th>\n",
       "      <th>region</th>\n",
       "    </tr>\n",
       "  </thead>\n",
       "  <tbody>\n",
       "    <tr>\n",
       "      <th>122</th>\n",
       "      <td>Sidi-Bel Abbes Region Dataset</td>\n",
       "      <td>NaN</td>\n",
       "      <td>NaN</td>\n",
       "      <td>NaN</td>\n",
       "      <td>NaN</td>\n",
       "      <td>NaN</td>\n",
       "      <td>NaN</td>\n",
       "      <td>NaN</td>\n",
       "      <td>NaN</td>\n",
       "      <td>NaN</td>\n",
       "      <td>NaN</td>\n",
       "      <td>NaN</td>\n",
       "      <td>NaN</td>\n",
       "      <td>NaN</td>\n",
       "      <td>0</td>\n",
       "    </tr>\n",
       "    <tr>\n",
       "      <th>167</th>\n",
       "      <td>14</td>\n",
       "      <td>07</td>\n",
       "      <td>2012</td>\n",
       "      <td>37</td>\n",
       "      <td>37</td>\n",
       "      <td>18</td>\n",
       "      <td>0.2</td>\n",
       "      <td>88.9</td>\n",
       "      <td>12.9</td>\n",
       "      <td>14.6 9</td>\n",
       "      <td>12.5</td>\n",
       "      <td>10.4</td>\n",
       "      <td>fire</td>\n",
       "      <td>NaN</td>\n",
       "      <td>1</td>\n",
       "    </tr>\n",
       "  </tbody>\n",
       "</table>\n",
       "</div>"
      ],
      "text/plain": [
       "                               day month  year Temperature   RH   Ws Rain   \\\n",
       "122  Sidi-Bel Abbes Region Dataset   NaN   NaN         NaN  NaN  NaN   NaN   \n",
       "167                             14    07  2012          37   37   18   0.2   \n",
       "\n",
       "     FFMC   DMC      DC   ISI   BUI      FWI Classes    region  \n",
       "122   NaN   NaN     NaN   NaN   NaN      NaN       NaN       0  \n",
       "167  88.9  12.9  14.6 9  12.5  10.4  fire          NaN       1  "
      ]
     },
     "execution_count": 150,
     "metadata": {},
     "output_type": "execute_result"
    }
   ],
   "source": [
    "df[df.isnull().any(axis=1)]"
   ]
  },
  {
   "cell_type": "code",
   "execution_count": 151,
   "id": "6e840b01",
   "metadata": {},
   "outputs": [],
   "source": [
    "df.drop([122,123,167],inplace=True)"
   ]
  },
  {
   "cell_type": "code",
   "execution_count": 152,
   "id": "ecc2d55f",
   "metadata": {},
   "outputs": [
    {
     "data": {
      "text/html": [
       "<div>\n",
       "<style scoped>\n",
       "    .dataframe tbody tr th:only-of-type {\n",
       "        vertical-align: middle;\n",
       "    }\n",
       "\n",
       "    .dataframe tbody tr th {\n",
       "        vertical-align: top;\n",
       "    }\n",
       "\n",
       "    .dataframe thead th {\n",
       "        text-align: right;\n",
       "    }\n",
       "</style>\n",
       "<table border=\"1\" class=\"dataframe\">\n",
       "  <thead>\n",
       "    <tr style=\"text-align: right;\">\n",
       "      <th></th>\n",
       "      <th>day</th>\n",
       "      <th>month</th>\n",
       "      <th>year</th>\n",
       "      <th>Temperature</th>\n",
       "      <th>RH</th>\n",
       "      <th>Ws</th>\n",
       "      <th>Rain</th>\n",
       "      <th>FFMC</th>\n",
       "      <th>DMC</th>\n",
       "      <th>DC</th>\n",
       "      <th>ISI</th>\n",
       "      <th>BUI</th>\n",
       "      <th>FWI</th>\n",
       "      <th>Classes</th>\n",
       "      <th>region</th>\n",
       "    </tr>\n",
       "  </thead>\n",
       "  <tbody>\n",
       "    <tr>\n",
       "      <th>124</th>\n",
       "      <td>01</td>\n",
       "      <td>06</td>\n",
       "      <td>2012</td>\n",
       "      <td>32</td>\n",
       "      <td>71</td>\n",
       "      <td>12</td>\n",
       "      <td>0.7</td>\n",
       "      <td>57.1</td>\n",
       "      <td>2.5</td>\n",
       "      <td>8.2</td>\n",
       "      <td>0.6</td>\n",
       "      <td>2.8</td>\n",
       "      <td>0.2</td>\n",
       "      <td>not fire</td>\n",
       "      <td>1</td>\n",
       "    </tr>\n",
       "  </tbody>\n",
       "</table>\n",
       "</div>"
      ],
      "text/plain": [
       "    day month  year Temperature  RH  Ws Rain   FFMC  DMC   DC  ISI  BUI  FWI  \\\n",
       "124  01    06  2012          32  71  12   0.7  57.1  2.5  8.2  0.6  2.8  0.2   \n",
       "\n",
       "       Classes    region  \n",
       "124  not fire          1  "
      ]
     },
     "execution_count": 152,
     "metadata": {},
     "output_type": "execute_result"
    }
   ],
   "source": [
    "df.iloc[[122]]"
   ]
  },
  {
   "cell_type": "code",
   "execution_count": 153,
   "id": "c3869d0c",
   "metadata": {},
   "outputs": [],
   "source": [
    "df.reset_index(drop=True,inplace=True)"
   ]
  },
  {
   "cell_type": "code",
   "execution_count": 154,
   "id": "e4a567a6",
   "metadata": {},
   "outputs": [
    {
     "name": "stdout",
     "output_type": "stream",
     "text": [
      "<class 'pandas.core.frame.DataFrame'>\n",
      "RangeIndex: 243 entries, 0 to 242\n",
      "Data columns (total 15 columns):\n",
      " #   Column       Non-Null Count  Dtype \n",
      "---  ------       --------------  ----- \n",
      " 0   day          243 non-null    object\n",
      " 1   month        243 non-null    object\n",
      " 2   year         243 non-null    object\n",
      " 3   Temperature  243 non-null    object\n",
      " 4    RH          243 non-null    object\n",
      " 5    Ws          243 non-null    object\n",
      " 6   Rain         243 non-null    object\n",
      " 7   FFMC         243 non-null    object\n",
      " 8   DMC          243 non-null    object\n",
      " 9   DC           243 non-null    object\n",
      " 10  ISI          243 non-null    object\n",
      " 11  BUI          243 non-null    object\n",
      " 12  FWI          243 non-null    object\n",
      " 13  Classes      243 non-null    object\n",
      " 14  region       243 non-null    int32 \n",
      "dtypes: int32(1), object(14)\n",
      "memory usage: 27.7+ KB\n"
     ]
    }
   ],
   "source": [
    "df.info()"
   ]
  },
  {
   "cell_type": "code",
   "execution_count": 155,
   "id": "0f99a014",
   "metadata": {},
   "outputs": [
    {
     "data": {
      "text/html": [
       "<div>\n",
       "<style scoped>\n",
       "    .dataframe tbody tr th:only-of-type {\n",
       "        vertical-align: middle;\n",
       "    }\n",
       "\n",
       "    .dataframe tbody tr th {\n",
       "        vertical-align: top;\n",
       "    }\n",
       "\n",
       "    .dataframe thead th {\n",
       "        text-align: right;\n",
       "    }\n",
       "</style>\n",
       "<table border=\"1\" class=\"dataframe\">\n",
       "  <thead>\n",
       "    <tr style=\"text-align: right;\">\n",
       "      <th></th>\n",
       "      <th>day</th>\n",
       "      <th>month</th>\n",
       "      <th>year</th>\n",
       "      <th>Temperature</th>\n",
       "      <th>RH</th>\n",
       "      <th>Ws</th>\n",
       "      <th>Rain</th>\n",
       "      <th>FFMC</th>\n",
       "      <th>DMC</th>\n",
       "      <th>DC</th>\n",
       "      <th>ISI</th>\n",
       "      <th>BUI</th>\n",
       "      <th>FWI</th>\n",
       "      <th>Classes</th>\n",
       "      <th>region</th>\n",
       "    </tr>\n",
       "  </thead>\n",
       "  <tbody>\n",
       "    <tr>\n",
       "      <th>0</th>\n",
       "      <td>01</td>\n",
       "      <td>06</td>\n",
       "      <td>2012</td>\n",
       "      <td>29</td>\n",
       "      <td>57</td>\n",
       "      <td>18</td>\n",
       "      <td>0</td>\n",
       "      <td>65.7</td>\n",
       "      <td>3.4</td>\n",
       "      <td>7.6</td>\n",
       "      <td>1.3</td>\n",
       "      <td>3.4</td>\n",
       "      <td>0.5</td>\n",
       "      <td>not fire</td>\n",
       "      <td>0</td>\n",
       "    </tr>\n",
       "    <tr>\n",
       "      <th>1</th>\n",
       "      <td>02</td>\n",
       "      <td>06</td>\n",
       "      <td>2012</td>\n",
       "      <td>29</td>\n",
       "      <td>61</td>\n",
       "      <td>13</td>\n",
       "      <td>1.3</td>\n",
       "      <td>64.4</td>\n",
       "      <td>4.1</td>\n",
       "      <td>7.6</td>\n",
       "      <td>1</td>\n",
       "      <td>3.9</td>\n",
       "      <td>0.4</td>\n",
       "      <td>not fire</td>\n",
       "      <td>0</td>\n",
       "    </tr>\n",
       "    <tr>\n",
       "      <th>2</th>\n",
       "      <td>03</td>\n",
       "      <td>06</td>\n",
       "      <td>2012</td>\n",
       "      <td>26</td>\n",
       "      <td>82</td>\n",
       "      <td>22</td>\n",
       "      <td>13.1</td>\n",
       "      <td>47.1</td>\n",
       "      <td>2.5</td>\n",
       "      <td>7.1</td>\n",
       "      <td>0.3</td>\n",
       "      <td>2.7</td>\n",
       "      <td>0.1</td>\n",
       "      <td>not fire</td>\n",
       "      <td>0</td>\n",
       "    </tr>\n",
       "    <tr>\n",
       "      <th>3</th>\n",
       "      <td>04</td>\n",
       "      <td>06</td>\n",
       "      <td>2012</td>\n",
       "      <td>25</td>\n",
       "      <td>89</td>\n",
       "      <td>13</td>\n",
       "      <td>2.5</td>\n",
       "      <td>28.6</td>\n",
       "      <td>1.3</td>\n",
       "      <td>6.9</td>\n",
       "      <td>0</td>\n",
       "      <td>1.7</td>\n",
       "      <td>0</td>\n",
       "      <td>not fire</td>\n",
       "      <td>0</td>\n",
       "    </tr>\n",
       "    <tr>\n",
       "      <th>4</th>\n",
       "      <td>05</td>\n",
       "      <td>06</td>\n",
       "      <td>2012</td>\n",
       "      <td>27</td>\n",
       "      <td>77</td>\n",
       "      <td>16</td>\n",
       "      <td>0</td>\n",
       "      <td>64.8</td>\n",
       "      <td>3</td>\n",
       "      <td>14.2</td>\n",
       "      <td>1.2</td>\n",
       "      <td>3.9</td>\n",
       "      <td>0.5</td>\n",
       "      <td>not fire</td>\n",
       "      <td>0</td>\n",
       "    </tr>\n",
       "  </tbody>\n",
       "</table>\n",
       "</div>"
      ],
      "text/plain": [
       "  day month  year Temperature  RH  Ws Rain   FFMC  DMC    DC  ISI  BUI  FWI  \\\n",
       "0  01    06  2012          29  57  18     0  65.7  3.4   7.6  1.3  3.4  0.5   \n",
       "1  02    06  2012          29  61  13   1.3  64.4  4.1   7.6    1  3.9  0.4   \n",
       "2  03    06  2012          26  82  22  13.1  47.1  2.5   7.1  0.3  2.7  0.1   \n",
       "3  04    06  2012          25  89  13   2.5  28.6  1.3   6.9    0  1.7    0   \n",
       "4  05    06  2012          27  77  16     0  64.8    3  14.2  1.2  3.9  0.5   \n",
       "\n",
       "     Classes    region  \n",
       "0  not fire          0  \n",
       "1  not fire          0  \n",
       "2  not fire          0  \n",
       "3  not fire          0  \n",
       "4  not fire          0  "
      ]
     },
     "execution_count": 155,
     "metadata": {},
     "output_type": "execute_result"
    }
   ],
   "source": [
    "df.head()"
   ]
  },
  {
   "cell_type": "code",
   "execution_count": 156,
   "id": "53d2b89d",
   "metadata": {},
   "outputs": [
    {
     "data": {
      "text/plain": [
       "Index(['day', 'month', 'year', 'Temperature', ' RH', ' Ws', 'Rain ', 'FFMC',\n",
       "       'DMC', 'DC', 'ISI', 'BUI', 'FWI', 'Classes  ', 'region'],\n",
       "      dtype='object')"
      ]
     },
     "execution_count": 156,
     "metadata": {},
     "output_type": "execute_result"
    }
   ],
   "source": [
    "df.columns"
   ]
  },
  {
   "cell_type": "code",
   "execution_count": 157,
   "id": "40376aca",
   "metadata": {},
   "outputs": [],
   "source": [
    "df.rename(columns={\"Classes  \": \"Classes\"}, inplace=True)"
   ]
  },
  {
   "cell_type": "code",
   "execution_count": 158,
   "id": "14b2d92f",
   "metadata": {},
   "outputs": [
    {
     "data": {
      "text/plain": [
       "Index(['day', 'month', 'year', 'Temperature', 'RH', 'Ws', 'Rain', 'FFMC',\n",
       "       'DMC', 'DC', 'ISI', 'BUI', 'FWI', 'Classes', 'region'],\n",
       "      dtype='object')"
      ]
     },
     "execution_count": 158,
     "metadata": {},
     "output_type": "execute_result"
    }
   ],
   "source": [
    "df.columns = df.columns.str.strip()\n",
    "df.columns"
   ]
  },
  {
   "cell_type": "code",
   "execution_count": 159,
   "id": "ac99b97e",
   "metadata": {},
   "outputs": [
    {
     "name": "stdout",
     "output_type": "stream",
     "text": [
      "<class 'pandas.core.frame.DataFrame'>\n",
      "RangeIndex: 243 entries, 0 to 242\n",
      "Data columns (total 15 columns):\n",
      " #   Column       Non-Null Count  Dtype \n",
      "---  ------       --------------  ----- \n",
      " 0   day          243 non-null    int32 \n",
      " 1   month        243 non-null    int32 \n",
      " 2   year         243 non-null    int32 \n",
      " 3   Temperature  243 non-null    int32 \n",
      " 4   RH           243 non-null    int32 \n",
      " 5   Ws           243 non-null    int32 \n",
      " 6   Rain         243 non-null    object\n",
      " 7   FFMC         243 non-null    object\n",
      " 8   DMC          243 non-null    object\n",
      " 9   DC           243 non-null    object\n",
      " 10  ISI          243 non-null    object\n",
      " 11  BUI          243 non-null    object\n",
      " 12  FWI          243 non-null    object\n",
      " 13  Classes      243 non-null    object\n",
      " 14  region       243 non-null    int32 \n",
      "dtypes: int32(7), object(8)\n",
      "memory usage: 22.0+ KB\n"
     ]
    }
   ],
   "source": [
    "df[['day', 'month', 'year', 'Temperature', 'RH', 'Ws']]=df[['day', 'month', 'year', 'Temperature', 'RH', 'Ws']].astype(int)\n",
    "df.info()"
   ]
  },
  {
   "cell_type": "code",
   "execution_count": 160,
   "id": "6263f014",
   "metadata": {},
   "outputs": [],
   "source": [
    "object_columns=[f for  f in df.columns if df[f].dtype=='object']"
   ]
  },
  {
   "cell_type": "code",
   "execution_count": 161,
   "id": "2bab2631",
   "metadata": {},
   "outputs": [
    {
     "name": "stdout",
     "output_type": "stream",
     "text": [
      "['Rain', 'FFMC', 'DMC', 'DC', 'ISI', 'BUI', 'FWI', 'Classes']\n"
     ]
    }
   ],
   "source": [
    "print(object_columns)"
   ]
  },
  {
   "cell_type": "code",
   "execution_count": 162,
   "id": "145762df",
   "metadata": {},
   "outputs": [],
   "source": [
    "for col in object_columns:\n",
    "    if col!=\"Classes\":\n",
    "        df[col]=df[col].astype(float)"
   ]
  },
  {
   "cell_type": "code",
   "execution_count": 163,
   "id": "5280b398",
   "metadata": {},
   "outputs": [
    {
     "name": "stdout",
     "output_type": "stream",
     "text": [
      "<class 'pandas.core.frame.DataFrame'>\n",
      "RangeIndex: 243 entries, 0 to 242\n",
      "Data columns (total 15 columns):\n",
      " #   Column       Non-Null Count  Dtype  \n",
      "---  ------       --------------  -----  \n",
      " 0   day          243 non-null    int32  \n",
      " 1   month        243 non-null    int32  \n",
      " 2   year         243 non-null    int32  \n",
      " 3   Temperature  243 non-null    int32  \n",
      " 4   RH           243 non-null    int32  \n",
      " 5   Ws           243 non-null    int32  \n",
      " 6   Rain         243 non-null    float64\n",
      " 7   FFMC         243 non-null    float64\n",
      " 8   DMC          243 non-null    float64\n",
      " 9   DC           243 non-null    float64\n",
      " 10  ISI          243 non-null    float64\n",
      " 11  BUI          243 non-null    float64\n",
      " 12  FWI          243 non-null    float64\n",
      " 13  Classes      243 non-null    object \n",
      " 14  region       243 non-null    int32  \n",
      "dtypes: float64(7), int32(7), object(1)\n",
      "memory usage: 22.0+ KB\n"
     ]
    }
   ],
   "source": [
    "df.info()"
   ]
  },
  {
   "cell_type": "code",
   "execution_count": 164,
   "id": "d0410ca0",
   "metadata": {},
   "outputs": [],
   "source": [
    "df.to_csv('Algerian_forest_fires_dataset_UPDATE_cleaned.csv',index=False)"
   ]
  },
  {
   "cell_type": "code",
   "execution_count": 165,
   "id": "2f59e576",
   "metadata": {},
   "outputs": [],
   "source": [
    "df_copy=df.drop(['day','month','year'],axis=1)"
   ]
  },
  {
   "cell_type": "code",
   "execution_count": 166,
   "id": "bdeb93c0",
   "metadata": {},
   "outputs": [
    {
     "name": "stdout",
     "output_type": "stream",
     "text": [
      "<class 'pandas.core.frame.DataFrame'>\n",
      "RangeIndex: 243 entries, 0 to 242\n",
      "Data columns (total 12 columns):\n",
      " #   Column       Non-Null Count  Dtype  \n",
      "---  ------       --------------  -----  \n",
      " 0   Temperature  243 non-null    int32  \n",
      " 1   RH           243 non-null    int32  \n",
      " 2   Ws           243 non-null    int32  \n",
      " 3   Rain         243 non-null    float64\n",
      " 4   FFMC         243 non-null    float64\n",
      " 5   DMC          243 non-null    float64\n",
      " 6   DC           243 non-null    float64\n",
      " 7   ISI          243 non-null    float64\n",
      " 8   BUI          243 non-null    float64\n",
      " 9   FWI          243 non-null    float64\n",
      " 10  Classes      243 non-null    object \n",
      " 11  region       243 non-null    int32  \n",
      "dtypes: float64(7), int32(4), object(1)\n",
      "memory usage: 19.1+ KB\n"
     ]
    }
   ],
   "source": [
    "df_copy.info()\n"
   ]
  },
  {
   "cell_type": "code",
   "execution_count": 167,
   "id": "8b168491",
   "metadata": {},
   "outputs": [
    {
     "data": {
      "text/plain": [
       "Classes\n",
       "fire             131\n",
       "not fire         101\n",
       "fire               4\n",
       "fire               2\n",
       "not fire           2\n",
       "not fire           1\n",
       "not fire           1\n",
       "not fire           1\n",
       "Name: count, dtype: int64"
      ]
     },
     "execution_count": 167,
     "metadata": {},
     "output_type": "execute_result"
    }
   ],
   "source": [
    "df[\"Classes\"].value_counts()"
   ]
  },
  {
   "cell_type": "code",
   "execution_count": 168,
   "id": "6ab1fca8",
   "metadata": {},
   "outputs": [],
   "source": [
    "df_copy[\"Classes\"]=np.where(df_copy[\"Classes\"].str.contains(\"not fire\"),0,1)"
   ]
  },
  {
   "cell_type": "code",
   "execution_count": 169,
   "id": "c04206ac",
   "metadata": {},
   "outputs": [
    {
     "data": {
      "text/plain": [
       "Classes\n",
       "1    137\n",
       "0    106\n",
       "Name: count, dtype: int64"
      ]
     },
     "execution_count": 169,
     "metadata": {},
     "output_type": "execute_result"
    }
   ],
   "source": [
    "df_copy[\"Classes\"].value_counts()"
   ]
  },
  {
   "cell_type": "code",
   "execution_count": 170,
   "id": "925c0bba",
   "metadata": {},
   "outputs": [
    {
     "data": {
      "text/html": [
       "<div>\n",
       "<style scoped>\n",
       "    .dataframe tbody tr th:only-of-type {\n",
       "        vertical-align: middle;\n",
       "    }\n",
       "\n",
       "    .dataframe tbody tr th {\n",
       "        vertical-align: top;\n",
       "    }\n",
       "\n",
       "    .dataframe thead th {\n",
       "        text-align: right;\n",
       "    }\n",
       "</style>\n",
       "<table border=\"1\" class=\"dataframe\">\n",
       "  <thead>\n",
       "    <tr style=\"text-align: right;\">\n",
       "      <th></th>\n",
       "      <th>Temperature</th>\n",
       "      <th>RH</th>\n",
       "      <th>Ws</th>\n",
       "      <th>Rain</th>\n",
       "      <th>FFMC</th>\n",
       "      <th>DMC</th>\n",
       "      <th>DC</th>\n",
       "      <th>ISI</th>\n",
       "      <th>BUI</th>\n",
       "      <th>FWI</th>\n",
       "      <th>Classes</th>\n",
       "      <th>region</th>\n",
       "    </tr>\n",
       "  </thead>\n",
       "  <tbody>\n",
       "    <tr>\n",
       "      <th>Temperature</th>\n",
       "      <td>1.000000</td>\n",
       "      <td>-0.651400</td>\n",
       "      <td>-0.284510</td>\n",
       "      <td>-0.326492</td>\n",
       "      <td>0.676568</td>\n",
       "      <td>0.485687</td>\n",
       "      <td>0.376284</td>\n",
       "      <td>0.603871</td>\n",
       "      <td>0.459789</td>\n",
       "      <td>0.566670</td>\n",
       "      <td>0.516015</td>\n",
       "      <td>0.269555</td>\n",
       "    </tr>\n",
       "    <tr>\n",
       "      <th>RH</th>\n",
       "      <td>-0.651400</td>\n",
       "      <td>1.000000</td>\n",
       "      <td>0.244048</td>\n",
       "      <td>0.222356</td>\n",
       "      <td>-0.644873</td>\n",
       "      <td>-0.408519</td>\n",
       "      <td>-0.226941</td>\n",
       "      <td>-0.686667</td>\n",
       "      <td>-0.353841</td>\n",
       "      <td>-0.580957</td>\n",
       "      <td>-0.432161</td>\n",
       "      <td>-0.402682</td>\n",
       "    </tr>\n",
       "    <tr>\n",
       "      <th>Ws</th>\n",
       "      <td>-0.284510</td>\n",
       "      <td>0.244048</td>\n",
       "      <td>1.000000</td>\n",
       "      <td>0.171506</td>\n",
       "      <td>-0.166548</td>\n",
       "      <td>-0.000721</td>\n",
       "      <td>0.079135</td>\n",
       "      <td>0.008532</td>\n",
       "      <td>0.031438</td>\n",
       "      <td>0.032368</td>\n",
       "      <td>-0.069964</td>\n",
       "      <td>-0.181160</td>\n",
       "    </tr>\n",
       "    <tr>\n",
       "      <th>Rain</th>\n",
       "      <td>-0.326492</td>\n",
       "      <td>0.222356</td>\n",
       "      <td>0.171506</td>\n",
       "      <td>1.000000</td>\n",
       "      <td>-0.543906</td>\n",
       "      <td>-0.288773</td>\n",
       "      <td>-0.298023</td>\n",
       "      <td>-0.347484</td>\n",
       "      <td>-0.299852</td>\n",
       "      <td>-0.324422</td>\n",
       "      <td>-0.379097</td>\n",
       "      <td>-0.040013</td>\n",
       "    </tr>\n",
       "    <tr>\n",
       "      <th>FFMC</th>\n",
       "      <td>0.676568</td>\n",
       "      <td>-0.644873</td>\n",
       "      <td>-0.166548</td>\n",
       "      <td>-0.543906</td>\n",
       "      <td>1.000000</td>\n",
       "      <td>0.603608</td>\n",
       "      <td>0.507397</td>\n",
       "      <td>0.740007</td>\n",
       "      <td>0.592011</td>\n",
       "      <td>0.691132</td>\n",
       "      <td>0.769492</td>\n",
       "      <td>0.222241</td>\n",
       "    </tr>\n",
       "    <tr>\n",
       "      <th>DMC</th>\n",
       "      <td>0.485687</td>\n",
       "      <td>-0.408519</td>\n",
       "      <td>-0.000721</td>\n",
       "      <td>-0.288773</td>\n",
       "      <td>0.603608</td>\n",
       "      <td>1.000000</td>\n",
       "      <td>0.875925</td>\n",
       "      <td>0.680454</td>\n",
       "      <td>0.982248</td>\n",
       "      <td>0.875864</td>\n",
       "      <td>0.585658</td>\n",
       "      <td>0.192089</td>\n",
       "    </tr>\n",
       "    <tr>\n",
       "      <th>DC</th>\n",
       "      <td>0.376284</td>\n",
       "      <td>-0.226941</td>\n",
       "      <td>0.079135</td>\n",
       "      <td>-0.298023</td>\n",
       "      <td>0.507397</td>\n",
       "      <td>0.875925</td>\n",
       "      <td>1.000000</td>\n",
       "      <td>0.508643</td>\n",
       "      <td>0.941988</td>\n",
       "      <td>0.739521</td>\n",
       "      <td>0.511123</td>\n",
       "      <td>-0.078734</td>\n",
       "    </tr>\n",
       "    <tr>\n",
       "      <th>ISI</th>\n",
       "      <td>0.603871</td>\n",
       "      <td>-0.686667</td>\n",
       "      <td>0.008532</td>\n",
       "      <td>-0.347484</td>\n",
       "      <td>0.740007</td>\n",
       "      <td>0.680454</td>\n",
       "      <td>0.508643</td>\n",
       "      <td>1.000000</td>\n",
       "      <td>0.644093</td>\n",
       "      <td>0.922895</td>\n",
       "      <td>0.735197</td>\n",
       "      <td>0.263197</td>\n",
       "    </tr>\n",
       "    <tr>\n",
       "      <th>BUI</th>\n",
       "      <td>0.459789</td>\n",
       "      <td>-0.353841</td>\n",
       "      <td>0.031438</td>\n",
       "      <td>-0.299852</td>\n",
       "      <td>0.592011</td>\n",
       "      <td>0.982248</td>\n",
       "      <td>0.941988</td>\n",
       "      <td>0.644093</td>\n",
       "      <td>1.000000</td>\n",
       "      <td>0.857973</td>\n",
       "      <td>0.586639</td>\n",
       "      <td>0.089408</td>\n",
       "    </tr>\n",
       "    <tr>\n",
       "      <th>FWI</th>\n",
       "      <td>0.566670</td>\n",
       "      <td>-0.580957</td>\n",
       "      <td>0.032368</td>\n",
       "      <td>-0.324422</td>\n",
       "      <td>0.691132</td>\n",
       "      <td>0.875864</td>\n",
       "      <td>0.739521</td>\n",
       "      <td>0.922895</td>\n",
       "      <td>0.857973</td>\n",
       "      <td>1.000000</td>\n",
       "      <td>0.719216</td>\n",
       "      <td>0.197102</td>\n",
       "    </tr>\n",
       "    <tr>\n",
       "      <th>Classes</th>\n",
       "      <td>0.516015</td>\n",
       "      <td>-0.432161</td>\n",
       "      <td>-0.069964</td>\n",
       "      <td>-0.379097</td>\n",
       "      <td>0.769492</td>\n",
       "      <td>0.585658</td>\n",
       "      <td>0.511123</td>\n",
       "      <td>0.735197</td>\n",
       "      <td>0.586639</td>\n",
       "      <td>0.719216</td>\n",
       "      <td>1.000000</td>\n",
       "      <td>0.162347</td>\n",
       "    </tr>\n",
       "    <tr>\n",
       "      <th>region</th>\n",
       "      <td>0.269555</td>\n",
       "      <td>-0.402682</td>\n",
       "      <td>-0.181160</td>\n",
       "      <td>-0.040013</td>\n",
       "      <td>0.222241</td>\n",
       "      <td>0.192089</td>\n",
       "      <td>-0.078734</td>\n",
       "      <td>0.263197</td>\n",
       "      <td>0.089408</td>\n",
       "      <td>0.197102</td>\n",
       "      <td>0.162347</td>\n",
       "      <td>1.000000</td>\n",
       "    </tr>\n",
       "  </tbody>\n",
       "</table>\n",
       "</div>"
      ],
      "text/plain": [
       "             Temperature        RH        Ws      Rain      FFMC       DMC  \\\n",
       "Temperature     1.000000 -0.651400 -0.284510 -0.326492  0.676568  0.485687   \n",
       "RH             -0.651400  1.000000  0.244048  0.222356 -0.644873 -0.408519   \n",
       "Ws             -0.284510  0.244048  1.000000  0.171506 -0.166548 -0.000721   \n",
       "Rain           -0.326492  0.222356  0.171506  1.000000 -0.543906 -0.288773   \n",
       "FFMC            0.676568 -0.644873 -0.166548 -0.543906  1.000000  0.603608   \n",
       "DMC             0.485687 -0.408519 -0.000721 -0.288773  0.603608  1.000000   \n",
       "DC              0.376284 -0.226941  0.079135 -0.298023  0.507397  0.875925   \n",
       "ISI             0.603871 -0.686667  0.008532 -0.347484  0.740007  0.680454   \n",
       "BUI             0.459789 -0.353841  0.031438 -0.299852  0.592011  0.982248   \n",
       "FWI             0.566670 -0.580957  0.032368 -0.324422  0.691132  0.875864   \n",
       "Classes         0.516015 -0.432161 -0.069964 -0.379097  0.769492  0.585658   \n",
       "region          0.269555 -0.402682 -0.181160 -0.040013  0.222241  0.192089   \n",
       "\n",
       "                   DC       ISI       BUI       FWI   Classes    region  \n",
       "Temperature  0.376284  0.603871  0.459789  0.566670  0.516015  0.269555  \n",
       "RH          -0.226941 -0.686667 -0.353841 -0.580957 -0.432161 -0.402682  \n",
       "Ws           0.079135  0.008532  0.031438  0.032368 -0.069964 -0.181160  \n",
       "Rain        -0.298023 -0.347484 -0.299852 -0.324422 -0.379097 -0.040013  \n",
       "FFMC         0.507397  0.740007  0.592011  0.691132  0.769492  0.222241  \n",
       "DMC          0.875925  0.680454  0.982248  0.875864  0.585658  0.192089  \n",
       "DC           1.000000  0.508643  0.941988  0.739521  0.511123 -0.078734  \n",
       "ISI          0.508643  1.000000  0.644093  0.922895  0.735197  0.263197  \n",
       "BUI          0.941988  0.644093  1.000000  0.857973  0.586639  0.089408  \n",
       "FWI          0.739521  0.922895  0.857973  1.000000  0.719216  0.197102  \n",
       "Classes      0.511123  0.735197  0.586639  0.719216  1.000000  0.162347  \n",
       "region      -0.078734  0.263197  0.089408  0.197102  0.162347  1.000000  "
      ]
     },
     "execution_count": 170,
     "metadata": {},
     "output_type": "execute_result"
    }
   ],
   "source": [
    "df_copy.corr()"
   ]
  },
  {
   "cell_type": "markdown",
   "id": "2bd0f2cb",
   "metadata": {},
   "source": [
    "#skipping visualization"
   ]
  },
  {
   "cell_type": "code",
   "execution_count": 171,
   "id": "0a5d3d5a",
   "metadata": {},
   "outputs": [
    {
     "data": {
      "text/html": [
       "<div>\n",
       "<style scoped>\n",
       "    .dataframe tbody tr th:only-of-type {\n",
       "        vertical-align: middle;\n",
       "    }\n",
       "\n",
       "    .dataframe tbody tr th {\n",
       "        vertical-align: top;\n",
       "    }\n",
       "\n",
       "    .dataframe thead th {\n",
       "        text-align: right;\n",
       "    }\n",
       "</style>\n",
       "<table border=\"1\" class=\"dataframe\">\n",
       "  <thead>\n",
       "    <tr style=\"text-align: right;\">\n",
       "      <th></th>\n",
       "      <th>day</th>\n",
       "      <th>month</th>\n",
       "      <th>year</th>\n",
       "      <th>Temperature</th>\n",
       "      <th>RH</th>\n",
       "      <th>Ws</th>\n",
       "      <th>Rain</th>\n",
       "      <th>FFMC</th>\n",
       "      <th>DMC</th>\n",
       "      <th>DC</th>\n",
       "      <th>ISI</th>\n",
       "      <th>BUI</th>\n",
       "      <th>FWI</th>\n",
       "      <th>Classes</th>\n",
       "      <th>region</th>\n",
       "    </tr>\n",
       "  </thead>\n",
       "  <tbody>\n",
       "    <tr>\n",
       "      <th>0</th>\n",
       "      <td>1</td>\n",
       "      <td>6</td>\n",
       "      <td>2012</td>\n",
       "      <td>29</td>\n",
       "      <td>57</td>\n",
       "      <td>18</td>\n",
       "      <td>0.0</td>\n",
       "      <td>65.7</td>\n",
       "      <td>3.4</td>\n",
       "      <td>7.6</td>\n",
       "      <td>1.3</td>\n",
       "      <td>3.4</td>\n",
       "      <td>0.5</td>\n",
       "      <td>not fire</td>\n",
       "      <td>0</td>\n",
       "    </tr>\n",
       "    <tr>\n",
       "      <th>1</th>\n",
       "      <td>2</td>\n",
       "      <td>6</td>\n",
       "      <td>2012</td>\n",
       "      <td>29</td>\n",
       "      <td>61</td>\n",
       "      <td>13</td>\n",
       "      <td>1.3</td>\n",
       "      <td>64.4</td>\n",
       "      <td>4.1</td>\n",
       "      <td>7.6</td>\n",
       "      <td>1.0</td>\n",
       "      <td>3.9</td>\n",
       "      <td>0.4</td>\n",
       "      <td>not fire</td>\n",
       "      <td>0</td>\n",
       "    </tr>\n",
       "    <tr>\n",
       "      <th>2</th>\n",
       "      <td>3</td>\n",
       "      <td>6</td>\n",
       "      <td>2012</td>\n",
       "      <td>26</td>\n",
       "      <td>82</td>\n",
       "      <td>22</td>\n",
       "      <td>13.1</td>\n",
       "      <td>47.1</td>\n",
       "      <td>2.5</td>\n",
       "      <td>7.1</td>\n",
       "      <td>0.3</td>\n",
       "      <td>2.7</td>\n",
       "      <td>0.1</td>\n",
       "      <td>not fire</td>\n",
       "      <td>0</td>\n",
       "    </tr>\n",
       "    <tr>\n",
       "      <th>3</th>\n",
       "      <td>4</td>\n",
       "      <td>6</td>\n",
       "      <td>2012</td>\n",
       "      <td>25</td>\n",
       "      <td>89</td>\n",
       "      <td>13</td>\n",
       "      <td>2.5</td>\n",
       "      <td>28.6</td>\n",
       "      <td>1.3</td>\n",
       "      <td>6.9</td>\n",
       "      <td>0.0</td>\n",
       "      <td>1.7</td>\n",
       "      <td>0.0</td>\n",
       "      <td>not fire</td>\n",
       "      <td>0</td>\n",
       "    </tr>\n",
       "    <tr>\n",
       "      <th>4</th>\n",
       "      <td>5</td>\n",
       "      <td>6</td>\n",
       "      <td>2012</td>\n",
       "      <td>27</td>\n",
       "      <td>77</td>\n",
       "      <td>16</td>\n",
       "      <td>0.0</td>\n",
       "      <td>64.8</td>\n",
       "      <td>3.0</td>\n",
       "      <td>14.2</td>\n",
       "      <td>1.2</td>\n",
       "      <td>3.9</td>\n",
       "      <td>0.5</td>\n",
       "      <td>not fire</td>\n",
       "      <td>0</td>\n",
       "    </tr>\n",
       "  </tbody>\n",
       "</table>\n",
       "</div>"
      ],
      "text/plain": [
       "   day  month  year  Temperature  RH  Ws  Rain  FFMC  DMC    DC  ISI  BUI  \\\n",
       "0    1      6  2012           29  57  18   0.0  65.7  3.4   7.6  1.3  3.4   \n",
       "1    2      6  2012           29  61  13   1.3  64.4  4.1   7.6  1.0  3.9   \n",
       "2    3      6  2012           26  82  22  13.1  47.1  2.5   7.1  0.3  2.7   \n",
       "3    4      6  2012           25  89  13   2.5  28.6  1.3   6.9  0.0  1.7   \n",
       "4    5      6  2012           27  77  16   0.0  64.8  3.0  14.2  1.2  3.9   \n",
       "\n",
       "   FWI      Classes  region  \n",
       "0  0.5  not fire          0  \n",
       "1  0.4  not fire          0  \n",
       "2  0.1  not fire          0  \n",
       "3  0.0  not fire          0  \n",
       "4  0.5  not fire          0  "
      ]
     },
     "execution_count": 171,
     "metadata": {},
     "output_type": "execute_result"
    }
   ],
   "source": [
    "df.head()"
   ]
  },
  {
   "cell_type": "code",
   "execution_count": 172,
   "id": "c0c1e93f",
   "metadata": {},
   "outputs": [
    {
     "data": {
      "text/html": [
       "<div>\n",
       "<style scoped>\n",
       "    .dataframe tbody tr th:only-of-type {\n",
       "        vertical-align: middle;\n",
       "    }\n",
       "\n",
       "    .dataframe tbody tr th {\n",
       "        vertical-align: top;\n",
       "    }\n",
       "\n",
       "    .dataframe thead th {\n",
       "        text-align: right;\n",
       "    }\n",
       "</style>\n",
       "<table border=\"1\" class=\"dataframe\">\n",
       "  <thead>\n",
       "    <tr style=\"text-align: right;\">\n",
       "      <th></th>\n",
       "      <th>Temperature</th>\n",
       "      <th>RH</th>\n",
       "      <th>Ws</th>\n",
       "      <th>Rain</th>\n",
       "      <th>FFMC</th>\n",
       "      <th>DMC</th>\n",
       "      <th>DC</th>\n",
       "      <th>ISI</th>\n",
       "      <th>BUI</th>\n",
       "      <th>FWI</th>\n",
       "      <th>Classes</th>\n",
       "      <th>region</th>\n",
       "    </tr>\n",
       "  </thead>\n",
       "  <tbody>\n",
       "    <tr>\n",
       "      <th>0</th>\n",
       "      <td>29</td>\n",
       "      <td>57</td>\n",
       "      <td>18</td>\n",
       "      <td>0.0</td>\n",
       "      <td>65.7</td>\n",
       "      <td>3.4</td>\n",
       "      <td>7.6</td>\n",
       "      <td>1.3</td>\n",
       "      <td>3.4</td>\n",
       "      <td>0.5</td>\n",
       "      <td>0</td>\n",
       "      <td>0</td>\n",
       "    </tr>\n",
       "    <tr>\n",
       "      <th>1</th>\n",
       "      <td>29</td>\n",
       "      <td>61</td>\n",
       "      <td>13</td>\n",
       "      <td>1.3</td>\n",
       "      <td>64.4</td>\n",
       "      <td>4.1</td>\n",
       "      <td>7.6</td>\n",
       "      <td>1.0</td>\n",
       "      <td>3.9</td>\n",
       "      <td>0.4</td>\n",
       "      <td>0</td>\n",
       "      <td>0</td>\n",
       "    </tr>\n",
       "    <tr>\n",
       "      <th>2</th>\n",
       "      <td>26</td>\n",
       "      <td>82</td>\n",
       "      <td>22</td>\n",
       "      <td>13.1</td>\n",
       "      <td>47.1</td>\n",
       "      <td>2.5</td>\n",
       "      <td>7.1</td>\n",
       "      <td>0.3</td>\n",
       "      <td>2.7</td>\n",
       "      <td>0.1</td>\n",
       "      <td>0</td>\n",
       "      <td>0</td>\n",
       "    </tr>\n",
       "    <tr>\n",
       "      <th>3</th>\n",
       "      <td>25</td>\n",
       "      <td>89</td>\n",
       "      <td>13</td>\n",
       "      <td>2.5</td>\n",
       "      <td>28.6</td>\n",
       "      <td>1.3</td>\n",
       "      <td>6.9</td>\n",
       "      <td>0.0</td>\n",
       "      <td>1.7</td>\n",
       "      <td>0.0</td>\n",
       "      <td>0</td>\n",
       "      <td>0</td>\n",
       "    </tr>\n",
       "    <tr>\n",
       "      <th>4</th>\n",
       "      <td>27</td>\n",
       "      <td>77</td>\n",
       "      <td>16</td>\n",
       "      <td>0.0</td>\n",
       "      <td>64.8</td>\n",
       "      <td>3.0</td>\n",
       "      <td>14.2</td>\n",
       "      <td>1.2</td>\n",
       "      <td>3.9</td>\n",
       "      <td>0.5</td>\n",
       "      <td>0</td>\n",
       "      <td>0</td>\n",
       "    </tr>\n",
       "  </tbody>\n",
       "</table>\n",
       "</div>"
      ],
      "text/plain": [
       "   Temperature  RH  Ws  Rain  FFMC  DMC    DC  ISI  BUI  FWI  Classes  region\n",
       "0           29  57  18   0.0  65.7  3.4   7.6  1.3  3.4  0.5        0       0\n",
       "1           29  61  13   1.3  64.4  4.1   7.6  1.0  3.9  0.4        0       0\n",
       "2           26  82  22  13.1  47.1  2.5   7.1  0.3  2.7  0.1        0       0\n",
       "3           25  89  13   2.5  28.6  1.3   6.9  0.0  1.7  0.0        0       0\n",
       "4           27  77  16   0.0  64.8  3.0  14.2  1.2  3.9  0.5        0       0"
      ]
     },
     "execution_count": 172,
     "metadata": {},
     "output_type": "execute_result"
    }
   ],
   "source": [
    "df_copy.head()"
   ]
  },
  {
   "cell_type": "code",
   "execution_count": 173,
   "id": "630b1b51",
   "metadata": {},
   "outputs": [],
   "source": [
    "df1=df_copy\n"
   ]
  },
  {
   "cell_type": "code",
   "execution_count": 174,
   "id": "bd9fcffa",
   "metadata": {},
   "outputs": [],
   "source": [
    "X=df1.drop('FWI',axis=1)\n",
    "Y=df1['FWI']"
   ]
  },
  {
   "cell_type": "code",
   "execution_count": 175,
   "id": "38826f10",
   "metadata": {},
   "outputs": [],
   "source": [
    "from sklearn.model_selection import train_test_split\n",
    "X_train, X_test, Y_train, Y_test = train_test_split(X, Y, test_size = 0.25, random_state = 42)"
   ]
  },
  {
   "cell_type": "code",
   "execution_count": 176,
   "id": "3a04231a",
   "metadata": {},
   "outputs": [
    {
     "data": {
      "text/plain": [
       "(182, 11)"
      ]
     },
     "execution_count": 176,
     "metadata": {},
     "output_type": "execute_result"
    }
   ],
   "source": [
    "X_train.shape"
   ]
  },
  {
   "cell_type": "code",
   "execution_count": 177,
   "id": "ba9fd7cf",
   "metadata": {},
   "outputs": [],
   "source": [
    "def correlation(dataset,threshold):\n",
    "    col_corr=set() # Set of all the names of deleted columns\n",
    "    corr_matrix=dataset.corr()\n",
    "    for i in range(len(corr_matrix.columns)):\n",
    "        print(corr_matrix.columns[i])\n",
    "        for j in range(i):\n",
    "            if abs(corr_matrix.iloc[i,j])>threshold:\n",
    "                colname=corr_matrix.columns[i] #getting the name of column\n",
    "                col_corr.add(colname)\n",
    "                if colname in dataset.columns:\n",
    "                    del dataset[colname]\n",
    "    print(dataset.shape)"
   ]
  },
  {
   "cell_type": "code",
   "execution_count": 178,
   "id": "29ae3af2",
   "metadata": {},
   "outputs": [
    {
     "name": "stdout",
     "output_type": "stream",
     "text": [
      "Temperature\n",
      "RH\n",
      "Ws\n",
      "Rain\n",
      "FFMC\n",
      "DMC\n",
      "DC\n",
      "ISI\n",
      "BUI\n",
      "Classes\n",
      "region\n",
      "(182, 9)\n",
      "Temperature\n",
      "RH\n",
      "Ws\n",
      "Rain\n",
      "FFMC\n",
      "DMC\n",
      "DC\n",
      "ISI\n",
      "BUI\n",
      "Classes\n",
      "region\n",
      "(61, 9)\n"
     ]
    }
   ],
   "source": [
    "correlation(X_train,0.85)\n",
    "correlation(X_test,0.85)"
   ]
  },
  {
   "cell_type": "code",
   "execution_count": 180,
   "id": "a00d3f33",
   "metadata": {},
   "outputs": [],
   "source": [
    "from sklearn.preprocessing import StandardScaler\n",
    "scaler=StandardScaler()\n",
    "X_train=scaler.fit_transform(X_train)\n",
    "X_test=scaler.transform(X_test)"
   ]
  },
  {
   "cell_type": "code",
   "execution_count": 181,
   "id": "d3bf1f5d",
   "metadata": {},
   "outputs": [
    {
     "data": {
      "text/plain": [
       "array([[-0.84284248,  0.78307967,  1.29972026, ..., -0.62963326,\n",
       "        -1.10431526, -0.98907071],\n",
       "       [-0.30175842,  0.64950844, -0.59874754, ..., -0.93058524,\n",
       "        -1.10431526,  1.01105006],\n",
       "       [ 2.13311985, -2.08870172, -0.21905398, ...,  2.7271388 ,\n",
       "         0.90553851,  1.01105006],\n",
       "       ...,\n",
       "       [-1.9250106 ,  0.9166509 ,  0.54033314, ..., -1.06948615,\n",
       "        -1.10431526, -0.98907071],\n",
       "       [ 0.50986767, -0.21870454,  0.16063958, ...,  0.5973248 ,\n",
       "         0.90553851,  1.01105006],\n",
       "       [-0.57230045,  0.98343651,  2.05910739, ..., -0.86113478,\n",
       "        -1.10431526, -0.98907071]])"
      ]
     },
     "execution_count": 181,
     "metadata": {},
     "output_type": "execute_result"
    }
   ],
   "source": [
    "X_train"
   ]
  },
  {
   "cell_type": "code",
   "execution_count": 183,
   "id": "4d393b2d",
   "metadata": {},
   "outputs": [
    {
     "name": "stdout",
     "output_type": "stream",
     "text": [
      "0.674276687379158\n",
      "0.9847657384266951\n"
     ]
    }
   ],
   "source": [
    "from sklearn.linear_model import LinearRegression\n",
    "from sklearn.metrics import mean_squared_error, r2_score\n",
    "model=LinearRegression()\n",
    "model.fit(X_train,Y_train)\n",
    "Y_pred=model.predict(X_test)\n",
    "mae=mean_squared_error(Y_test,Y_pred)\n",
    "r2=r2_score(Y_test,Y_pred)\n",
    "print(mae)\n",
    "print(r2)\n"
   ]
  },
  {
   "cell_type": "code",
   "execution_count": 188,
   "id": "7a7b17b7",
   "metadata": {},
   "outputs": [
    {
     "data": {
      "image/png": "[encoded data removed]",
      "text/plain": [
       "<Figure size 640x480 with 1 Axes>"
      ]
     },
     "metadata": {},
     "output_type": "display_data"
    }
   ],
   "source": [
    "plt.scatter(Y_test,Y_pred)\n",
    "plt.show()"
   ]
  },
  {
   "cell_type": "code",
   "execution_count": 195,
   "id": "31985b68",
   "metadata": {},
   "outputs": [
    {
     "name": "stdout",
     "output_type": "stream",
     "text": [
      "1.133175994914409\n",
      "0.9492020263112388\n"
     ]
    }
   ],
   "source": [
    "from sklearn.linear_model import Lasso\n",
    "from sklearn.metrics import mean_squared_error, r2_score,mean_absolute_error\n",
    "model=Lasso()\n",
    "model.fit(X_train,Y_train)\n",
    "Y_pred=model.predict(X_test)\n",
    "mae=mean_absolute_error(Y_test,Y_pred)\n",
    "r2=r2_score(Y_test,Y_pred)\n",
    "print(mae)\n",
    "print(r2)"
   ]
  },
  {
   "cell_type": "code",
   "execution_count": 196,
   "id": "916a43d3",
   "metadata": {},
   "outputs": [
    {
     "name": "stdout",
     "output_type": "stream",
     "text": [
      "0.5642305340105715\n",
      "0.9842993364555512\n"
     ]
    }
   ],
   "source": [
    "from sklearn.linear_model import Ridge\n",
    "model=Ridge()\n",
    "\n",
    "model.fit(X_train,Y_train)\n",
    "Y_pred=model.predict(X_test)\n",
    "mae=mean_absolute_error(Y_test,Y_pred)\n",
    "r2=r2_score(Y_test,Y_pred)\n",
    "print(mae)\n",
    "print(r2)"
   ]
  },
  {
   "cell_type": "code",
   "execution_count": 197,
   "id": "c7cf667f",
   "metadata": {},
   "outputs": [
    {
     "name": "stdout",
     "output_type": "stream",
     "text": [
      "1.8822353634896005\n",
      "0.8753460589519703\n"
     ]
    }
   ],
   "source": [
    "from sklearn.linear_model import ElasticNet\n",
    "model=ElasticNet()\n",
    "\n",
    "model.fit(X_train,Y_train)\n",
    "Y_pred=model.predict(X_test)\n",
    "mae=mean_absolute_error(Y_test,Y_pred)\n",
    "r2=r2_score(Y_test,Y_pred)\n",
    "print(mae)\n",
    "print(r2)"
   ]
  },
  {
   "cell_type": "code",
   "execution_count": 198,
   "id": "62d75b48",
   "metadata": {},
   "outputs": [
    {
     "name": "stdout",
     "output_type": "stream",
     "text": [
      "0.619970115826343\n",
      "0.9820946715928275\n"
     ]
    }
   ],
   "source": [
    "from sklearn.linear_model import LassoCV\n",
    "model=LassoCV()\n",
    "model.fit(X_train,Y_train)\n",
    "Y_pred=model.predict(X_test)\n",
    "mae=mean_absolute_error(Y_test,Y_pred)\n",
    "r2=r2_score(Y_test,Y_pred)\n",
    "print(mae)\n",
    "print(r2)\n"
   ]
  },
  {
   "cell_type": "code",
   "execution_count": 201,
   "id": "19836153",
   "metadata": {},
   "outputs": [
    {
     "data": {
      "text/plain": [
       "array([-0.        , -0.        ,  0.        ,  0.        , -0.40063928,\n",
       "        3.60177292,  4.7999393 ,  0.16408964, -0.3022766 ])"
      ]
     },
     "execution_count": 201,
     "metadata": {},
     "output_type": "execute_result"
    }
   ],
   "source": [
    "model.coef_"
   ]
  },
  {
   "cell_type": "code",
   "execution_count": 202,
   "id": "5752f42c",
   "metadata": {},
   "outputs": [
    {
     "data": {
      "text/plain": [
       "7.156043956043957"
      ]
     },
     "execution_count": 202,
     "metadata": {},
     "output_type": "execute_result"
    }
   ],
   "source": [
    "model.intercept_"
   ]
  },
  {
   "cell_type": "code",
   "execution_count": 203,
   "id": "2bf9c5e4",
   "metadata": {},
   "outputs": [
    {
     "name": "stderr",
     "output_type": "stream",
     "text": [
      "f:\\anaconda\\envs\\DLenv\\lib\\site-packages\\requests\\__init__.py:86: RequestsDependencyWarning: Unable to find acceptable character detection dependency (chardet or charset_normalizer).\n",
      "  warnings.warn(\n"
     ]
    },
    {
     "name": "stdout",
     "output_type": "stream",
     "text": [
      "Num GPUs Available:  0\n"
     ]
    }
   ],
   "source": [
    "import tensorflow as tf\n",
    "print(\"Num GPUs Available: \", len(tf.config.experimental.list_physical_devices('GPU')))"
   ]
  }
 ],
 "metadata": {
  "kernelspec": {
   "display_name": "Python (DLenv)",
   "language": "python",
   "name": "myenv"
  },
  "language_info": {
   "codemirror_mode": {
    "name": "ipython",
    "version": 3
   },
   "file_extension": ".py",
   "mimetype": "text/x-python",
   "name": "python",
   "nbconvert_exporter": "python",
   "pygments_lexer": "ipython3",
   "version": "3.10.18"
  }
 },
 "nbformat": 4,
 "nbformat_minor": 5
}
